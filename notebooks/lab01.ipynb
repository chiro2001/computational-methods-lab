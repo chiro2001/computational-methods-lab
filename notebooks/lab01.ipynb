{
 "cells": [
  {
   "cell_type": "markdown",
   "metadata": {},
   "source": [
    "## 实验题目 1：拉格朗日（Lagrange）插值"
   ]
  },
  {
   "cell_type": "markdown",
   "metadata": {},
   "source": [
    "### 问题分析\n",
    "\n",
    "> 准确描述并总结出实验题目（摘要），并准确分析原题的目的和意义。"
   ]
  },
  {
   "cell_type": "markdown",
   "metadata": {},
   "source": [
    "#### 方法概要\n",
    "\n",
    "给定平面上$n+1$个不同的数据点$(x_k, f(x_k)), k=0,1,\\cdots,n, x_i \\neq x_j, i \\neq j$则满足条件\n",
    "\n",
    "$$\n",
    "P_n(x_k) = f(x_k), k = 0, 1, \\cdots, n\n",
    "$$\n",
    "\n",
    "的$n$次拉格朗日插值多项式\n",
    "\n",
    "$$\n",
    "P_n(x) = \\displaystyle\\Sigma^n_{k=0}f(x_k)l_k(x)\n",
    "$$\n",
    "\n",
    "是存在唯一的。若$x_k\\in[a, b], k = 0, 1, \\cdots, n$且函数$f(x)$充分光滑，则当$x\\in[a,b]$时，有误差估计式\n",
    "\n",
    "$$\n",
    "f(x) - P_n(x) = \\frac{f^{n+1}(\\xi)}{(n+1)!}(x-x_0)(x-x_1)\\cdots(x-x_n), \\xi \\in[a,b]\n",
    "$$"
   ]
  },
  {
   "cell_type": "markdown",
   "metadata": {},
   "source": [
    "#### 实验目的\n",
    "\n",
    "利用拉格朗日插值多项式 $P_n(x)$ 求 $f(x)$ 的近似值。\n",
    "\n",
    "**输入：** $n+1$个数据点$x_k,f(x_k), k=0,1,\\cdots,n$、插值点$x$\n",
    "\n",
    "**输出：** $f(x)$在插值点$x$的近似值$P_n(x)$"
   ]
  },
  {
   "cell_type": "markdown",
   "metadata": {},
   "source": [
    "### 数学原理\n",
    "\n",
    "> 数学原理表达清晰且书写准确。"
   ]
  },
  {
   "cell_type": "markdown",
   "metadata": {},
   "source": [
    "#### 证明 $P_n(x)$ 存在且唯一"
   ]
  },
  {
   "cell_type": "markdown",
   "metadata": {},
   "source": [
    "\n",
    "**证明：** 使用归纳法证明。\n",
    "\n",
    "当 $n=0$，一定存在 $P_0(x) = C = f_0(x)$ 满足要求。\n",
    "\n",
    "假设当 $n=k-1$ 时，存在满足要求的 $P_{k-1}(x)$，则当 $n=k$，有\n",
    "\n",
    "$$\n",
    "P_{k}(x) = P_{k-1}(x) + c(x-x_0)(x-x_1)\\cdots(x-x_{k-1})(x-x_k), \\ \\text{c为系数}\n",
    "$$\n",
    "\n",
    "则$\\because P_n(x_n) = f(x_n), \\therefore$ 参数 $c$ 是可求的，故 $P_n(x)$ 是存在的。"
   ]
  },
  {
   "cell_type": "markdown",
   "metadata": {},
   "source": [
    "由多项式基本定理，$\\because P_n(x)$ 次数 $ \\leq n, \\therefore P_n(x)$ 是唯一存在的。"
   ]
  },
  {
   "cell_type": "markdown",
   "metadata": {},
   "source": [
    "#### 计算方法"
   ]
  },
  {
   "cell_type": "markdown",
   "metadata": {},
   "source": [
    "对平面上 $n+1$ 个点 $(x_k,f(x_k)), k=0,1,\\cdots,n, x_i\\neq x_j,i\\neq j$ 定义 $n$ 次多项式：\n",
    "\n",
    "$$\n",
    "L_k(x) = \\frac{(x-x_0)(x-x_1)\\cdots(x-x_{k-1})(x-x_{k+1})\\cdots(x-x_k)}{(x_k-x_0)(x_k-x_1)\\cdots (x_k-x_{k-1})(x_k-x_{k+1})\\cdots(x_k-x_n)}\n",
    "$$\n",
    "\n",
    "则 $L_k(x_k)=1,L_k(x_m)=0,m\\neq k$ "
   ]
  },
  {
   "cell_type": "markdown",
   "metadata": {},
   "source": [
    "### 程序设计流程\n",
    "\n",
    "> 编译通过，根据输入能得到正确输出。"
   ]
  },
  {
   "cell_type": "markdown",
   "metadata": {},
   "source": [
    "### 实验结果\n",
    "\n",
    "> 准确规范地给出各个实验题目的结果，并对相应的思考题给出正确合理的回答与说明。"
   ]
  }
 ],
 "metadata": {
  "language_info": {
   "name": "python"
  },
  "orig_nbformat": 4
 },
 "nbformat": 4,
 "nbformat_minor": 2
}
